{
 "cells": [
  {
   "cell_type": "code",
   "execution_count": 1,
   "metadata": {},
   "outputs": [],
   "source": [
    "import numpy as np\n",
    "import pandas as pd\n",
    "import seaborn as sns\n",
    "import matplotlib.pyplot as plt"
   ]
  },
  {
   "cell_type": "code",
   "execution_count": 3,
   "metadata": {},
   "outputs": [
    {
     "data": {
      "text/plain": [
       "(404290, 6)"
      ]
     },
     "execution_count": 3,
     "metadata": {},
     "output_type": "execute_result"
    }
   ],
   "source": [
    "df = pd.read_csv(\"data/train.csv\")\n",
    "df.shape"
   ]
  },
  {
   "cell_type": "code",
   "execution_count": 4,
   "metadata": {},
   "outputs": [
    {
     "data": {
      "text/html": [
       "<div>\n",
       "<style scoped>\n",
       "    .dataframe tbody tr th:only-of-type {\n",
       "        vertical-align: middle;\n",
       "    }\n",
       "\n",
       "    .dataframe tbody tr th {\n",
       "        vertical-align: top;\n",
       "    }\n",
       "\n",
       "    .dataframe thead th {\n",
       "        text-align: right;\n",
       "    }\n",
       "</style>\n",
       "<table border=\"1\" class=\"dataframe\">\n",
       "  <thead>\n",
       "    <tr style=\"text-align: right;\">\n",
       "      <th></th>\n",
       "      <th>id</th>\n",
       "      <th>qid1</th>\n",
       "      <th>qid2</th>\n",
       "      <th>question1</th>\n",
       "      <th>question2</th>\n",
       "      <th>is_duplicate</th>\n",
       "    </tr>\n",
       "  </thead>\n",
       "  <tbody>\n",
       "    <tr>\n",
       "      <th>312855</th>\n",
       "      <td>312855</td>\n",
       "      <td>437364</td>\n",
       "      <td>437365</td>\n",
       "      <td>How do you find the calories count of food?</td>\n",
       "      <td>What's the best way to calorie count?</td>\n",
       "      <td>0</td>\n",
       "    </tr>\n",
       "    <tr>\n",
       "      <th>281318</th>\n",
       "      <td>281318</td>\n",
       "      <td>54117</td>\n",
       "      <td>30765</td>\n",
       "      <td>What is the secret of keeping a successful lon...</td>\n",
       "      <td>Do long distance relationships ever work out?</td>\n",
       "      <td>1</td>\n",
       "    </tr>\n",
       "    <tr>\n",
       "      <th>23754</th>\n",
       "      <td>23754</td>\n",
       "      <td>44464</td>\n",
       "      <td>44465</td>\n",
       "      <td>Why are vehicles made to take weapons of mass ...</td>\n",
       "      <td>Why is marble classified as an igneous rock?</td>\n",
       "      <td>0</td>\n",
       "    </tr>\n",
       "    <tr>\n",
       "      <th>22824</th>\n",
       "      <td>22824</td>\n",
       "      <td>42804</td>\n",
       "      <td>42805</td>\n",
       "      <td>Is it possible to stop the answers by a specif...</td>\n",
       "      <td>Is there any way I can prevent the posts of sp...</td>\n",
       "      <td>1</td>\n",
       "    </tr>\n",
       "    <tr>\n",
       "      <th>62208</th>\n",
       "      <td>62208</td>\n",
       "      <td>108472</td>\n",
       "      <td>108473</td>\n",
       "      <td>Which skills do you want to develop when asked...</td>\n",
       "      <td>Would a candidate of 7763 aipmt rank get cims ...</td>\n",
       "      <td>0</td>\n",
       "    </tr>\n",
       "    <tr>\n",
       "      <th>359766</th>\n",
       "      <td>359766</td>\n",
       "      <td>489450</td>\n",
       "      <td>489451</td>\n",
       "      <td>What is Euler’s number?</td>\n",
       "      <td>Can someone explain the number e (Euler's numb...</td>\n",
       "      <td>0</td>\n",
       "    </tr>\n",
       "    <tr>\n",
       "      <th>108246</th>\n",
       "      <td>108246</td>\n",
       "      <td>177908</td>\n",
       "      <td>177909</td>\n",
       "      <td>How do I convert this 35 mm film camera to a d...</td>\n",
       "      <td>Describe a digital camera. How is it different...</td>\n",
       "      <td>0</td>\n",
       "    </tr>\n",
       "    <tr>\n",
       "      <th>231607</th>\n",
       "      <td>231607</td>\n",
       "      <td>341459</td>\n",
       "      <td>341460</td>\n",
       "      <td>What we can learn in just 10 minutes that we w...</td>\n",
       "      <td>Life: What can I learn right now in 10 minutes...</td>\n",
       "      <td>1</td>\n",
       "    </tr>\n",
       "    <tr>\n",
       "      <th>65100</th>\n",
       "      <td>65100</td>\n",
       "      <td>113031</td>\n",
       "      <td>113032</td>\n",
       "      <td>What is the best way to request a letter for a...</td>\n",
       "      <td>How do I write a requisition letter for school...</td>\n",
       "      <td>1</td>\n",
       "    </tr>\n",
       "    <tr>\n",
       "      <th>28712</th>\n",
       "      <td>28712</td>\n",
       "      <td>53215</td>\n",
       "      <td>53216</td>\n",
       "      <td>How does I make a person lovable with other li...</td>\n",
       "      <td>I've experienced a lot with losing both my par...</td>\n",
       "      <td>0</td>\n",
       "    </tr>\n",
       "  </tbody>\n",
       "</table>\n",
       "</div>"
      ],
      "text/plain": [
       "            id    qid1    qid2  \\\n",
       "312855  312855  437364  437365   \n",
       "281318  281318   54117   30765   \n",
       "23754    23754   44464   44465   \n",
       "22824    22824   42804   42805   \n",
       "62208    62208  108472  108473   \n",
       "359766  359766  489450  489451   \n",
       "108246  108246  177908  177909   \n",
       "231607  231607  341459  341460   \n",
       "65100    65100  113031  113032   \n",
       "28712    28712   53215   53216   \n",
       "\n",
       "                                                question1  \\\n",
       "312855        How do you find the calories count of food?   \n",
       "281318  What is the secret of keeping a successful lon...   \n",
       "23754   Why are vehicles made to take weapons of mass ...   \n",
       "22824   Is it possible to stop the answers by a specif...   \n",
       "62208   Which skills do you want to develop when asked...   \n",
       "359766                            What is Euler’s number?   \n",
       "108246  How do I convert this 35 mm film camera to a d...   \n",
       "231607  What we can learn in just 10 minutes that we w...   \n",
       "65100   What is the best way to request a letter for a...   \n",
       "28712   How does I make a person lovable with other li...   \n",
       "\n",
       "                                                question2  is_duplicate  \n",
       "312855              What's the best way to calorie count?             0  \n",
       "281318      Do long distance relationships ever work out?             1  \n",
       "23754        Why is marble classified as an igneous rock?             0  \n",
       "22824   Is there any way I can prevent the posts of sp...             1  \n",
       "62208   Would a candidate of 7763 aipmt rank get cims ...             0  \n",
       "359766  Can someone explain the number e (Euler's numb...             0  \n",
       "108246  Describe a digital camera. How is it different...             0  \n",
       "231607  Life: What can I learn right now in 10 minutes...             1  \n",
       "65100   How do I write a requisition letter for school...             1  \n",
       "28712   I've experienced a lot with losing both my par...             0  "
      ]
     },
     "execution_count": 4,
     "metadata": {},
     "output_type": "execute_result"
    }
   ],
   "source": [
    "df.sample(10)"
   ]
  },
  {
   "cell_type": "code",
   "execution_count": 5,
   "metadata": {},
   "outputs": [
    {
     "data": {
      "text/plain": [
       "'What is the secret of keeping a successful long distance relationship?'"
      ]
     },
     "execution_count": 5,
     "metadata": {},
     "output_type": "execute_result"
    }
   ],
   "source": [
    "df['question1'].iloc[281318]"
   ]
  },
  {
   "cell_type": "code",
   "execution_count": 6,
   "metadata": {},
   "outputs": [
    {
     "data": {
      "text/plain": [
       "'Do long distance relationships ever work out?'"
      ]
     },
     "execution_count": 6,
     "metadata": {},
     "output_type": "execute_result"
    }
   ],
   "source": [
    "df['question2'].iloc[281318]"
   ]
  },
  {
   "cell_type": "code",
   "execution_count": 7,
   "metadata": {},
   "outputs": [
    {
     "name": "stdout",
     "output_type": "stream",
     "text": [
      "<class 'pandas.core.frame.DataFrame'>\n",
      "RangeIndex: 404290 entries, 0 to 404289\n",
      "Data columns (total 6 columns):\n",
      " #   Column        Non-Null Count   Dtype \n",
      "---  ------        --------------   ----- \n",
      " 0   id            404290 non-null  int64 \n",
      " 1   qid1          404290 non-null  int64 \n",
      " 2   qid2          404290 non-null  int64 \n",
      " 3   question1     404289 non-null  object\n",
      " 4   question2     404288 non-null  object\n",
      " 5   is_duplicate  404290 non-null  int64 \n",
      "dtypes: int64(4), object(2)\n",
      "memory usage: 18.5+ MB\n"
     ]
    }
   ],
   "source": [
    "df.info()"
   ]
  },
  {
   "cell_type": "code",
   "execution_count": 8,
   "metadata": {},
   "outputs": [
    {
     "data": {
      "text/plain": [
       "id              0\n",
       "qid1            0\n",
       "qid2            0\n",
       "question1       1\n",
       "question2       2\n",
       "is_duplicate    0\n",
       "dtype: int64"
      ]
     },
     "execution_count": 8,
     "metadata": {},
     "output_type": "execute_result"
    }
   ],
   "source": [
    "# missing values\n",
    "df.isnull().sum()"
   ]
  },
  {
   "cell_type": "code",
   "execution_count": 9,
   "metadata": {},
   "outputs": [
    {
     "data": {
      "text/plain": [
       "0"
      ]
     },
     "execution_count": 9,
     "metadata": {},
     "output_type": "execute_result"
    }
   ],
   "source": [
    "# duplicate rows\n",
    "df.duplicated().sum()"
   ]
  },
  {
   "cell_type": "code",
   "execution_count": 10,
   "metadata": {},
   "outputs": [
    {
     "name": "stdout",
     "output_type": "stream",
     "text": [
      "0    255027\n",
      "1    149263\n",
      "Name: is_duplicate, dtype: int64\n",
      "0    63.080215\n",
      "1    36.919785\n",
      "Name: is_duplicate, dtype: float64\n"
     ]
    },
    {
     "data": {
      "text/plain": [
       "<matplotlib.axes._subplots.AxesSubplot at 0x19173771040>"
      ]
     },
     "execution_count": 10,
     "metadata": {},
     "output_type": "execute_result"
    },
    {
     "data": {
      "image/png": "[encoded data removed]",
      "text/plain": [
       "<Figure size 432x288 with 1 Axes>"
      ]
     },
     "metadata": {
      "needs_background": "light"
     },
     "output_type": "display_data"
    }
   ],
   "source": [
    "# Distribution of duplicate and non-duplicate questions\n",
    "\n",
    "print(df['is_duplicate'].value_counts())\n",
    "print((df['is_duplicate'].value_counts()/df['is_duplicate'].count())*100)\n",
    "df['is_duplicate'].value_counts().plot(kind='bar')"
   ]
  },
  {
   "cell_type": "code",
   "execution_count": 11,
   "metadata": {},
   "outputs": [
    {
     "name": "stdout",
     "output_type": "stream",
     "text": [
      "Number of unique questions 537933\n",
      "Number of questions getting repeated 111780\n"
     ]
    }
   ],
   "source": [
    "# Repeated questions\n",
    "\n",
    "qid = pd.Series(df['qid1'].tolist() + df['qid2'].tolist())\n",
    "print('Number of unique questions',np.unique(qid).shape[0])\n",
    "x = qid.value_counts()>1\n",
    "print('Number of questions getting repeated',x[x].shape[0])"
   ]
  },
  {
   "cell_type": "code",
   "execution_count": 12,
   "metadata": {},
   "outputs": [
    {
     "data": {
      "image/png": "[encoded data removed]",
      "text/plain": [
       "<Figure size 432x288 with 1 Axes>"
      ]
     },
     "metadata": {
      "needs_background": "light"
     },
     "output_type": "display_data"
    }
   ],
   "source": [
    "# Repeated questions histogram\n",
    "\n",
    "plt.hist(qid.value_counts().values,bins=160)\n",
    "plt.yscale('log')\n",
    "plt.show()"
   ]
  },
  {
   "cell_type": "code",
   "execution_count": null,
   "metadata": {},
   "outputs": [],
   "source": []
  }
 ],
 "metadata": {
  "kernelspec": {
   "display_name": "Python 3",
   "language": "python",
   "name": "python3"
  },
  "language_info": {
   "codemirror_mode": {
    "name": "ipython",
    "version": 3
   },
   "file_extension": ".py",
   "mimetype": "text/x-python",
   "name": "python",
   "nbconvert_exporter": "python",
   "pygments_lexer": "ipython3",
   "version": "3.8.5"
  }
 },
 "nbformat": 4,
 "nbformat_minor": 5
}
